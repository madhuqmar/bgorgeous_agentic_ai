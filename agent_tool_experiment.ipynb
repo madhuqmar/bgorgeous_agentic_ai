{
 "cells": [
  {
   "cell_type": "code",
   "execution_count": 1,
   "id": "4c420e8e-18b4-4619-a639-fabc21e232d2",
   "metadata": {},
   "outputs": [
    {
     "data": {
      "text/plain": [
       "True"
      ]
     },
     "execution_count": 1,
     "metadata": {},
     "output_type": "execute_result"
    }
   ],
   "source": [
    "import mysql.connector\n",
    "import pandas as pd\n",
    "from dotenv import load_dotenv\n",
    "import os\n",
    "\n",
    "# Load environment variables from .env file\n",
    "load_dotenv(\".env\")"
   ]
  },
  {
   "cell_type": "code",
   "execution_count": 2,
   "id": "a780459d-ed78-4fe6-a3ab-0871d8efc631",
   "metadata": {},
   "outputs": [],
   "source": [
    "import mysql.connector\n",
    "\n",
    "def execute_query(query):\n",
    "    connection = mysql.connector.connect(\n",
    "        host = os.getenv(\"DB_HOST\"),\n",
    "        user = os.getenv(\"DB_USER\"),\n",
    "        password = os.getenv(\"DB_PASSWORD\"),\n",
    "        database = os.getenv(\"DB_DATABASE\"),\n",
    "    )\n",
    "    cursor = connection.cursor()\n",
    "    cursor.execute(query)\n",
    "    results = cursor.fetchall()\n",
    "    cursor.close()\n",
    "    connection.close()\n",
    "    return results"
   ]
  },
  {
   "cell_type": "code",
   "execution_count": 3,
   "id": "d4c8436a-94bd-4f76-9133-373d449c4707",
   "metadata": {},
   "outputs": [
    {
     "name": "stdout",
     "output_type": "stream",
     "text": [
      "Connection successful. Current database: [('live_bgorgeous',)]\n"
     ]
    }
   ],
   "source": [
    "# Test the function\n",
    "try:\n",
    "    query = \"SELECT DATABASE();\"  # Simple query to fetch the current database\n",
    "    result = execute_query(query)\n",
    "    print(\"Connection successful. Current database:\", result)\n",
    "except mysql.connector.Error as err:\n",
    "    print(\"Error:\", err)"
   ]
  },
  {
   "cell_type": "code",
   "execution_count": 4,
   "id": "74768aca-df9e-4a2d-8ba3-7fb7bb92e736",
   "metadata": {},
   "outputs": [],
   "source": [
    "#!pip install mysql-connector-python\n",
    "#!pip install pandas\n",
    "#!pip install python-dotenv\n",
    "#!pip install langchain\n",
    "#!pip install --quiet urllib3==1.26.16\n",
    "#!pip install --quiet openai\n",
    "#!pip install --quiet langchain_community\n",
    "#!pip install --quiet --upgrade langchain-openai\n",
    "#!pip install --quiet numexpr\n",
    "#!pip install wikipedia-api\n",
    "#!pip install --quiet wikipedia"
   ]
  },
  {
   "cell_type": "code",
   "execution_count": 5,
   "id": "aac7d2b3-7810-4288-9907-f20aa4c87412",
   "metadata": {},
   "outputs": [],
   "source": [
    "from langchain_openai import ChatOpenAI, OpenAI\n",
    "from langchain.agents import load_tools\n",
    "from langchain.agents import initialize_agent\n",
    "from langchain.agents import AgentType"
   ]
  },
  {
   "cell_type": "code",
   "execution_count": 12,
   "id": "04b71f4f-e59f-49c9-b380-b95bc1d27404",
   "metadata": {},
   "outputs": [],
   "source": [
    "llm = OpenAI(temperature=0)\n",
    "tools = load_tools([\"llm-math\"], llm=llm)"
   ]
  },
  {
   "cell_type": "code",
   "execution_count": 13,
   "id": "c5cf14a8-88d8-4433-9767-9a92d1359d8d",
   "metadata": {},
   "outputs": [
    {
     "data": {
      "text/plain": [
       "'2031'"
      ]
     },
     "execution_count": 13,
     "metadata": {},
     "output_type": "execute_result"
    }
   ],
   "source": [
    "agent = initialize_agent(tools, llm, agent=AgentType.ZERO_SHOT_REACT_DESCRIPTION)\n",
    "agent.run(\"What is 10 years from now?\")"
   ]
  },
  {
   "cell_type": "code",
   "execution_count": 14,
   "id": "76ace895-bfde-4fa7-8f68-f4e73a4cf825",
   "metadata": {},
   "outputs": [
    {
     "name": "stdout",
     "output_type": "stream",
     "text": [
      "Suhas Subramanyam (born September 26, 1986) is an American lawyer and politician. He served as a member of the Virginia Senate, representing the 32nd district, and is the Congressman-elect for Virginia's 10th congressional district. He lives in Ashburn, Virginia with his family. He has also served on the Loudoun Health Council and volunteered as an EMT/firefighter. He was a member of the Virginia House of Delegates, representing the 87th district, and was the first Indian-American, South Asian, and Hindu to be elected to the Virginia General Assembly. He served as a White House advisor to President Barack Obama. In 2024, he won Virginia's 10th congressional district election.\n"
     ]
    }
   ],
   "source": [
    "# Define your LLM\n",
    "llm = ChatOpenAI(model=\"gpt-4\", temperature=0, openai_api_key=os.getenv(\"OPENAI_API_KEY\"))\n",
    "\n",
    "# Load the Wikipedia tool\n",
    "tools = load_tools([\"wikipedia\"], llm=llm)\n",
    "\n",
    "# Initialize the agent with the Wikipedia tool\n",
    "agent = initialize_agent(tools, llm, agent=AgentType.ZERO_SHOT_REACT_DESCRIPTION)\n",
    "\n",
    "# Use the agent to search Wikipedia\n",
    "response = agent.run(\"Tell me about Suhas Subramanyam from Wikipedia.\")\n",
    "print(response)"
   ]
  },
  {
   "cell_type": "code",
   "execution_count": 6,
   "id": "4185e88a-17cf-4d52-9473-dfafc66fc569",
   "metadata": {},
   "outputs": [],
   "source": [
    "# Wrap execute_query for the Tool\n",
    "def query_database_tool(input_query):\n",
    "    try:\n",
    "        return execute_query(input_query)\n",
    "    except Exception as e:\n",
    "        return f\"Error: {e}\""
   ]
  },
  {
   "cell_type": "code",
   "execution_count": 10,
   "id": "9788256d-f046-4bf5-befe-486d37d12093",
   "metadata": {},
   "outputs": [
    {
     "name": "stdout",
     "output_type": "stream",
     "text": [
      "The total number of appointments booked is 4092.\n"
     ]
    }
   ],
   "source": [
    "from langchain.agents import initialize_agent, Tool\n",
    "from langchain.llms import OpenAI\n",
    "\n",
    "# Define your LLM\n",
    "llm = ChatOpenAI(model=\"gpt-4\", temperature=0, openai_api_key=os.getenv(\"OPENAI_API_KEY\"))\n",
    "\n",
    "# Define tools\n",
    "tools = [\n",
    "    Tool(name=\"Query Database\", func=query_database_tool, description=\"Executes SQL queries on the database.\")\n",
    "]\n",
    "\n",
    "# Initialize the agent\n",
    "agent = initialize_agent(tools, llm, agent=AgentType.ZERO_SHOT_REACT_DESCRIPTION)\n",
    "\n",
    "# Use the agent\n",
    "response = agent.run(\"Give me total number of appointments booked.\")\n",
    "print(response)"
   ]
  },
  {
   "cell_type": "code",
   "execution_count": null,
   "id": "57af0080-5044-4f78-a550-b79040c71d98",
   "metadata": {},
   "outputs": [],
   "source": []
  },
  {
   "cell_type": "code",
   "execution_count": null,
   "id": "c915b06f-0420-463d-b6ba-85f61972ccff",
   "metadata": {},
   "outputs": [],
   "source": []
  }
 ],
 "metadata": {
  "kernelspec": {
   "display_name": "Python 3 (ipykernel)",
   "language": "python",
   "name": "python3"
  },
  "language_info": {
   "codemirror_mode": {
    "name": "ipython",
    "version": 3
   },
   "file_extension": ".py",
   "mimetype": "text/x-python",
   "name": "python",
   "nbconvert_exporter": "python",
   "pygments_lexer": "ipython3",
   "version": "3.9.6"
  }
 },
 "nbformat": 4,
 "nbformat_minor": 5
}
